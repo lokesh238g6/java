{
  "nbformat": 4,
  "nbformat_minor": 0,
  "metadata": {
    "colab": {
      "provenance": [],
      "toc_visible": true,
      "authorship_tag": "ABX9TyOH7Urr9ocuVqindZYApAg8",
      "include_colab_link": true
    },
    "kernelspec": {
      "name": "python3",
      "display_name": "Python 3"
    },
    "language_info": {
      "name": "python"
    }
  },
  "cells": [
    {
      "cell_type": "markdown",
      "metadata": {
        "id": "view-in-github",
        "colab_type": "text"
      },
      "source": [
        "<a href=\"https://colab.research.google.com/github/lokesh238g6/java/blob/main/program2(week%201).ipynb\" target=\"_parent\"><img src=\"https://colab.research.google.com/assets/colab-badge.svg\" alt=\"Open In Colab\"/></a>"
      ]
    },
    {
      "cell_type": "code",
      "execution_count": 9,
      "metadata": {
        "colab": {
          "base_uri": "https://localhost:8080/"
        },
        "id": "qF0dHKq6O-6T",
        "outputId": "c4889f2a-1d6d-4e9a-b7b3-12b9f5dec99e"
      },
      "outputs": [
        {
          "output_type": "stream",
          "name": "stdout",
          "text": [
            "enter student namelokesh\n",
            "enter roll no45\n",
            "enter marks34\n",
            "enter marks47\n",
            "enter marks87\n",
            "enter marks78\n",
            "enter marks67\n",
            "student name islokesh\n",
            "roll no is 45\n",
            "subjct 1 marks is 34\n",
            "subjct 2 marks is 47\n",
            "subjct 3 marks is 87\n",
            "subjct 4 marks is 78\n",
            "subjct 5 marks is 67\n",
            "total is 313\n",
            "average is 62.6\n"
          ]
        }
      ],
      "source": [
        "name=input(\"enter student name:\")\n",
        "roll=int(input(\"enter roll no:\"))\n",
        "m1=int(input(\"enter marks:\"))\n",
        "m2=int(input(\"enter marks;\"))\n",
        "m3=int(input(\"enter marks;\"))\n",
        "m4=int(input(\"enter marks;\"))\n",
        "m5=int(input(\"enter marks:\"))\n",
        "total=int(m1)+int(m2)+int(m3)+int(m4)+int(m5);\n",
        "avg=total/5;\n",
        "print(\"student name is\"+name)\n",
        "print(\"roll no is\",roll)\n",
        "print(\"subjct 1 marks is\",m1)\n",
        "print(\"subjct 2 marks is\",m2)\n",
        "print(\"subjct 3 marks is\",m3)\n",
        "print(\"subjct 4 marks is\",m4)\n",
        "print(\"subjct 5 marks is\",m5)\n",
        "print(\"total is\",total)\n",
        "print(\"average is\",avg)\n",
        "\n",
        "\n",
        "\n"
      ]
    },
    {
      "cell_type": "code",
      "source": [
        "\"\"\"a) Demonstrate about Basics of Python Programming.45\n",
        "\n",
        "b) Demonstrate about fundamental Data types in Python Programming. (i.e., int, float, complex, bool and string types)\n",
        "c) Demonstrate the working of following functions in Python.\n",
        " i) type( ) iii) range( )\n",
        "d) Write a Python program to demonstrate various type conversion functions.\"\"\"\n",
        "#a)\n",
        "print(\"welcome to python programming\")\n",
        "print(\"hello python\")\n",
        "a=int(input(\"enter a value\"))\n",
        "b=int(input(\"enter b value\"))\n",
        "add=a+b\n",
        "sub=a-b\n",
        "mult=a*b\n",
        "div=a/b\n",
        "mod=a%b\n",
        "print(\"sum is\",add,\"\\nsub is\",sub,\"\\nmult is\",mult,\"\\ndiv is\",div,\"\\nmodule is\",mod)\n",
        "\n",
        "\n"
      ],
      "metadata": {
        "colab": {
          "base_uri": "https://localhost:8080/"
        },
        "id": "IasyHq3eVFby",
        "outputId": "6b9ba80b-4a7d-4b25-f754-d52d32cd5758"
      },
      "execution_count": 17,
      "outputs": [
        {
          "output_type": "stream",
          "name": "stdout",
          "text": [
            "welcome to python programming\n",
            "hello python\n",
            "enter a value34\n",
            "enter b value34\n",
            "sum is 68 \n",
            "sub is 0 \n",
            "mult is 1156 \n",
            "div is 1.0 \n",
            "module is 0\n"
          ]
        }
      ]
    },
    {
      "cell_type": "code",
      "source": [
        "#b\n",
        "i=int(input(\"enter interger value\"))\n",
        "print(\"interger is\",i)\n",
        "f=float(input(\"enter float value\"))\n",
        "print(\"folating value is \",f)\n",
        "#b=(input(\"enter boolean values x and y\"))\n",
        "a=5+6j;\n",
        "print(a.real)\n",
        "print(a.imag)\n",
        "b=True;\n",
        "c=False;\n",
        "print(b)\n",
        "print(c)\n",
        "s=str(input(\"enter a string\"))\n",
        "print(\"string is \",s)\n"
      ],
      "metadata": {
        "colab": {
          "base_uri": "https://localhost:8080/"
        },
        "id": "DuqMgH_TYyQi",
        "outputId": "95702b24-4b82-4a96-b0c5-e8bf924fa7a7"
      },
      "execution_count": 23,
      "outputs": [
        {
          "output_type": "stream",
          "name": "stdout",
          "text": [
            "enter interger value3\n",
            "interger is 3\n",
            "enter float value4\n",
            "folating value is  4.0\n",
            "5.0\n",
            "6.0\n",
            "True\n",
            "False\n",
            "enter a stringlokesh\n",
            "string is  lokesh\n"
          ]
        }
      ]
    },
    {
      "cell_type": "code",
      "source": [
        "#c)\n",
        "\n",
        "a=20;\n",
        "print(type(a))\n",
        "print(tuple(range(5)))\n",
        "#d\n",
        "print(type(float(a)))\n",
        "print(float(a))"
      ],
      "metadata": {
        "colab": {
          "base_uri": "https://localhost:8080/"
        },
        "id": "WXhn7qVwdFii",
        "outputId": "57136f65-2964-4bee-e126-ab98ac58e79e"
      },
      "execution_count": 28,
      "outputs": [
        {
          "output_type": "stream",
          "name": "stdout",
          "text": [
            "<class 'int'>\n",
            "(0, 1, 2, 3, 4)\n",
            "<class 'float'>\n",
            "20.0\n"
          ]
        }
      ]
    },
    {
      "cell_type": "code",
      "source": [
        "\"\"\"Program2:Write a program that Demonstrate the following Operators in Python with suitable examples.\n",
        "i) Arithmetic Operators ii) Relational Operators\n",
        "iii) Assignment Operator iv) Logical Operators\n",
        "v) Bit wise Operators vi) Membership Operators\n",
        "vii) Identity Operators\"\"\"\n",
        "\n",
        "#a\n",
        "#arthametic operators:\n",
        "a=int(input(\"enter a value\"))\n",
        "b=int(input(\"enter b value\"))\n",
        "add=a+b\n",
        "sub=a-b\n",
        "mult=a*b\n",
        "div=a/b\n",
        "mod=a%b\n",
        "print(\"sum is\",add,\"\\nsub is\",sub,\"\\nmult is\",mult,\"\\ndiv is\",div,\"\\nmodule is\",mod)"
      ],
      "metadata": {
        "id": "i_UQcvcgdu2q"
      },
      "execution_count": null,
      "outputs": []
    },
    {
      "cell_type": "code",
      "source": [
        "#b\n",
        "#relational operators:\n",
        "a=int(input(\"enter a value\"))\n",
        "b=int(input(\"enter b value\"))\n",
        "print(a>b)\n",
        "print(a<b)\n",
        "print(a==b)\n",
        "print(a!=b)\n",
        "print(a<=b)\n",
        "print(a>=b)\n"
      ],
      "metadata": {
        "colab": {
          "base_uri": "https://localhost:8080/"
        },
        "id": "xtKNecWthO0Z",
        "outputId": "0fa1f291-01c8-4108-a2cf-f8f5fa855729"
      },
      "execution_count": 29,
      "outputs": [
        {
          "output_type": "stream",
          "name": "stdout",
          "text": [
            "enter a value3\n",
            "enter b value4\n",
            "False\n",
            "True\n",
            "False\n",
            "True\n",
            "True\n",
            "False\n"
          ]
        }
      ]
    },
    {
      "cell_type": "code",
      "source": [
        "#c\n",
        "#assignment operators:\n",
        "a=int(input(\"enter a value\"))\n",
        "b=int(input(\"enter b value\"))\n",
        "a+=b\n",
        "print(a)\n",
        "a-=b\n",
        "print(a)\n",
        "a*=b\n",
        "print(a)\n",
        "a/=b\n",
        "print(a)\n",
        "a%=b\n",
        "print(a)\n",
        "a**=b\n",
        "print(a)\n",
        "a//=b\n",
        "print(a)\n",
        "a=b\n",
        "print(a)\n"
      ],
      "metadata": {
        "colab": {
          "base_uri": "https://localhost:8080/"
        },
        "id": "f0Wus1h9htPx",
        "outputId": "7ca913ee-af99-412a-d8df-476e9442d89d"
      },
      "execution_count": 31,
      "outputs": [
        {
          "output_type": "stream",
          "name": "stdout",
          "text": [
            "enter a value4\n",
            "enter b value5\n",
            "9\n",
            "4\n",
            "20\n",
            "4.0\n",
            "4.0\n",
            "1024.0\n",
            "204.0\n",
            "5\n"
          ]
        }
      ]
    },
    {
      "cell_type": "code",
      "source": [
        "#d\n",
        "#logical operator\n",
        "a=int(input(\"enter a value\"))\n",
        "b=int(input(\"enter b value\"))\n",
        "print(a>b and a<b)\n",
        "print(a>b or a<b)\n",
        "print(not(a>b))"
      ],
      "metadata": {
        "colab": {
          "base_uri": "https://localhost:8080/"
        },
        "id": "sB902cPKiRd6",
        "outputId": "1ca15fa6-b49e-479b-f655-718c540b1e89"
      },
      "execution_count": 32,
      "outputs": [
        {
          "output_type": "stream",
          "name": "stdout",
          "text": [
            "enter a value3\n",
            "enter b value4\n",
            "False\n",
            "True\n",
            "True\n"
          ]
        }
      ]
    },
    {
      "cell_type": "code",
      "source": [
        "#e\n",
        "#bitwise operators:\n",
        "a=int(input(\"enter a value\"))\n",
        "b=int(input(\"enter b value\"))\n",
        "print(a&b)\n",
        "print(a|b)\n",
        "print(a^b)\n",
        "print(~a)\n",
        "print(a<<b)\n",
        "print(a>>b)\n"
      ],
      "metadata": {
        "colab": {
          "base_uri": "https://localhost:8080/"
        },
        "id": "1INipvpYixSJ",
        "outputId": "3add7807-e9d6-4c38-ff9c-fdba12b6240d"
      },
      "execution_count": 33,
      "outputs": [
        {
          "output_type": "stream",
          "name": "stdout",
          "text": [
            "enter a value4\n",
            "enter b value5\n",
            "4\n",
            "5\n",
            "1\n",
            "-5\n",
            "128\n",
            "0\n"
          ]
        }
      ]
    },
    {
      "cell_type": "code",
      "source": [
        "#f\n",
        "#membership operator\n",
        "a=input(\"enter a value\")\n",
        "b=input(\"enter b value\")\n",
        "print(a in b)\n",
        "print(a not in b)"
      ],
      "metadata": {
        "colab": {
          "base_uri": "https://localhost:8080/"
        },
        "id": "vWS76ShojL1S",
        "outputId": "4b8a8282-75bb-4b15-8dac-e0361e7ef4a3"
      },
      "execution_count": 37,
      "outputs": [
        {
          "output_type": "stream",
          "name": "stdout",
          "text": [
            "enter a value4\n",
            "enter b value5\n",
            "False\n",
            "True\n"
          ]
        }
      ]
    },
    {
      "cell_type": "code",
      "source": [
        "#g)\n",
        "#identity operators:\n",
        "a=int(input(\"enter a value\"))\n",
        "b=int(input(\"enter b value\"))\n",
        "print(a is b)\n",
        "print(a is not b)"
      ],
      "metadata": {
        "colab": {
          "base_uri": "https://localhost:8080/"
        },
        "id": "L4L2X7AMkNKg",
        "outputId": "5ed20a5e-ca56-42d5-ea65-b0fe0ea4cdad"
      },
      "execution_count": 38,
      "outputs": [
        {
          "output_type": "stream",
          "name": "stdout",
          "text": [
            "enter a value5\n",
            "enter b value5\n",
            "True\n",
            "False\n"
          ]
        }
      ]
    }
  ]
}